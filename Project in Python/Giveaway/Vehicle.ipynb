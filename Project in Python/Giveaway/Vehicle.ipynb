{
 "cells": [
  {
   "cell_type": "code",
   "execution_count": null,
   "metadata": {},
   "outputs": [],
   "source": [
    "#20 Live vehicle detection\n",
    "\n",
    "import cv2\n",
    "cars_cascade = cv2.CascadeClassifier('C:\\\\Users\\\\Tanmay\\\\Desktop\\\\haarcascade_car.xml')\n",
    "\n",
    "def detect_cars(frame):\n",
    "    cars = cars_cascade.detectMultiScale(frame, 1.15, 4)\n",
    "    for (x, y, w, h) in cars:\n",
    "        cv2.rectangle(frame, (x, y), (x+w,y+h), color=(0, 255, 0), thickness=2)\n",
    "    return frame\n",
    "  \n",
    "def Simulator():\n",
    "    CarVideo = cv2.VideoCapture('C:\\\\Users\\\\Tanmay\\\\Desktop\\\\cars.mp4')\n",
    "    while CarVideo.isOpened():\n",
    "        ret, frame = CarVideo.read()\n",
    "        controlkey = cv2.waitKey(1)\n",
    "        if ret:        \n",
    "            cars_frame = detect_cars(frame)\n",
    "            cv2.imshow('frame', cars_frame)\n",
    "        else:\n",
    "            break\n",
    "        if controlkey == ord('q'):\n",
    "            break\n",
    "\n",
    "    CarVideo.release()\n",
    "    cv2.destroyAllWindows()\n",
    "    \n",
    "if __name__ == '__main__':\n",
    "    Simulator()"
   ]
  }
 ],
 "metadata": {
  "kernelspec": {
   "display_name": "Python 3",
   "language": "python",
   "name": "python3"
  },
  "language_info": {
   "codemirror_mode": {
    "name": "ipython",
    "version": 3
   },
   "file_extension": ".py",
   "mimetype": "text/x-python",
   "name": "python",
   "nbconvert_exporter": "python",
   "pygments_lexer": "ipython3",
   "version": "3.6.5"
  }
 },
 "nbformat": 4,
 "nbformat_minor": 2
}
